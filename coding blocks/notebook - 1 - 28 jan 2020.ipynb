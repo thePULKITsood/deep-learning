{
 "cells": [
  {
   "cell_type": "code",
   "execution_count": 1,
   "id": "christian-brunei",
   "metadata": {},
   "outputs": [
    {
     "name": "stdout",
     "output_type": "stream",
     "text": [
      "hello\n"
     ]
    }
   ],
   "source": [
    "print (\"hello\")"
   ]
  },
  {
   "cell_type": "code",
   "execution_count": 2,
   "id": "canadian-heaven",
   "metadata": {},
   "outputs": [
    {
     "name": "stdout",
     "output_type": "stream",
     "text": [
      "15\n"
     ]
    }
   ],
   "source": [
    "a= 5\n",
    "b=10\n",
    "\n",
    "print (a+b)"
   ]
  },
  {
   "cell_type": "markdown",
   "id": "personal-hazard",
   "metadata": {},
   "source": [
    "this will be becoming a markdown cell \n",
    "\n",
    "this is a markdown text "
   ]
  },
  {
   "cell_type": "markdown",
   "id": "operating-student",
   "metadata": {},
   "source": [
    "# heading "
   ]
  },
  {
   "cell_type": "code",
   "execution_count": null,
   "id": "federal-polyester",
   "metadata": {},
   "outputs": [],
   "source": []
  }
 ],
 "metadata": {
  "kernelspec": {
   "display_name": "Python 3",
   "language": "python",
   "name": "python3"
  },
  "language_info": {
   "codemirror_mode": {
    "name": "ipython",
    "version": 3
   },
   "file_extension": ".py",
   "mimetype": "text/x-python",
   "name": "python",
   "nbconvert_exporter": "python",
   "pygments_lexer": "ipython3",
   "version": "3.8.1"
  }
 },
 "nbformat": 4,
 "nbformat_minor": 5
}
